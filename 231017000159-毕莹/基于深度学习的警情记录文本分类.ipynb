{
 "cells": [
  {
   "cell_type": "code",
   "execution_count": 1,
   "id": "28de614b",
   "metadata": {},
   "outputs": [],
   "source": [
    "import tensorflow as tf\n",
    "import re\n",
    "\n",
    "import pickle\n",
    "from tensorflow.keras.models import load_model\n",
    "from tensorflow.keras.layers import Activation, Dense, SpatialDropout1D\n",
    "from tensorflow.keras.layers import Embedding\n",
    "from tensorflow.keras.models import Sequential\n",
    "from tensorflow.keras.preprocessing import sequence\n",
    "from sklearn.model_selection import train_test_split\n",
    "from sklearn.metrics import accuracy_score, classification_report"
   ]
  },
  {
   "cell_type": "code",
   "execution_count": 2,
   "id": "934ca459",
   "metadata": {},
   "outputs": [
    {
     "data": {
      "text/plain": [
       "'2.1.0'"
      ]
     },
     "execution_count": 2,
     "metadata": {},
     "output_type": "execute_result"
    }
   ],
   "source": [
    "tf.__version__"
   ]
  },
  {
   "cell_type": "code",
   "execution_count": 35,
   "id": "b7c77ed0",
   "metadata": {},
   "outputs": [],
   "source": [
    "import jieba\n",
    "import numpy as np\n",
    "import pandas as pd\n",
    "import warnings\n",
    "warnings.filterwarnings('ignore')\n",
    "import matplotlib.pyplot as plt\n",
    "plt.style.use('ggplot')  \n",
    "plt.rcParams['font.family']='Microsoft YaHei'\n",
    "plt.rcParams['axes.unicode_minus']= False"
   ]
  },
  {
   "cell_type": "markdown",
   "id": "e9ae855f",
   "metadata": {},
   "source": [
    "# 读取数据"
   ]
  },
  {
   "cell_type": "code",
   "execution_count": 96,
   "id": "b0cfafbf",
   "metadata": {},
   "outputs": [
    {
     "data": {
      "text/html": [
       "<div>\n",
       "<style scoped>\n",
       "    .dataframe tbody tr th:only-of-type {\n",
       "        vertical-align: middle;\n",
       "    }\n",
       "\n",
       "    .dataframe tbody tr th {\n",
       "        vertical-align: top;\n",
       "    }\n",
       "\n",
       "    .dataframe thead th {\n",
       "        text-align: right;\n",
       "    }\n",
       "</style>\n",
       "<table border=\"1\" class=\"dataframe\">\n",
       "  <thead>\n",
       "    <tr style=\"text-align: right;\">\n",
       "      <th></th>\n",
       "      <th>报警人性别</th>\n",
       "      <th>报警内容</th>\n",
       "      <th>出警情况</th>\n",
       "      <th>反馈警情类别</th>\n",
       "    </tr>\n",
       "  </thead>\n",
       "  <tbody>\n",
       "    <tr>\n",
       "      <th>0</th>\n",
       "      <td>男</td>\n",
       "      <td>事故后期，赔偿纠纷</td>\n",
       "      <td>2019年7月27日9时41分许，民警***带领辅警冯诚军，***到达萧山区靖江路与广场路西...</td>\n",
       "      <td>求助</td>\n",
       "    </tr>\n",
       "    <tr>\n",
       "      <th>1</th>\n",
       "      <td>男</td>\n",
       "      <td>称因感情问题，妹妹扬言要自杀  已通知120</td>\n",
       "      <td>民警***带领辅警**、***、**到达二桥村327号报警现场，经了解报警人***（男：19...</td>\n",
       "      <td>求助</td>\n",
       "    </tr>\n",
       "    <tr>\n",
       "      <th>2</th>\n",
       "      <td>男</td>\n",
       "      <td>装修噪音扰民</td>\n",
       "      <td>民警来*到达湘湖家园78-3-601，据报警人（未透露身份信息）称有装修工噪音扰民，现场装修...</td>\n",
       "      <td>求助</td>\n",
       "    </tr>\n",
       "    <tr>\n",
       "      <th>3</th>\n",
       "      <td>男</td>\n",
       "      <td>称中暑了  120\\n重复报警:报警时间:2019-07-27 09:29:40, 报警电话...</td>\n",
       "      <td>民警***到达瓜沥镇**娄观音庙后面，经调查，系报警人于2019年7月27日9时16分因中暑...</td>\n",
       "      <td>求助</td>\n",
       "    </tr>\n",
       "    <tr>\n",
       "      <th>4</th>\n",
       "      <td>男</td>\n",
       "      <td>电梯里的广告牌被人损坏</td>\n",
       "      <td>2019年7月27日8时58分许，民警***带领辅警冯诚军，***到达萧山区靖江街道靖东村村...</td>\n",
       "      <td>求助</td>\n",
       "    </tr>\n",
       "  </tbody>\n",
       "</table>\n",
       "</div>"
      ],
      "text/plain": [
       "  报警人性别                                               报警内容  \\\n",
       "0     男                                          事故后期，赔偿纠纷   \n",
       "1     男                             称因感情问题，妹妹扬言要自杀  已通知120   \n",
       "2     男                                             装修噪音扰民   \n",
       "3     男  称中暑了  120\\n重复报警:报警时间:2019-07-27 09:29:40, 报警电话...   \n",
       "4     男                                        电梯里的广告牌被人损坏   \n",
       "\n",
       "                                                出警情况 反馈警情类别  \n",
       "0  2019年7月27日9时41分许，民警***带领辅警冯诚军，***到达萧山区靖江路与广场路西...     求助  \n",
       "1  民警***带领辅警**、***、**到达二桥村327号报警现场，经了解报警人***（男：19...     求助  \n",
       "2  民警来*到达湘湖家园78-3-601，据报警人（未透露身份信息）称有装修工噪音扰民，现场装修...     求助  \n",
       "3  民警***到达瓜沥镇**娄观音庙后面，经调查，系报警人于2019年7月27日9时16分因中暑...     求助  \n",
       "4  2019年7月27日8时58分许，民警***带领辅警冯诚军，***到达萧山区靖江街道靖东村村...     求助  "
      ]
     },
     "execution_count": 96,
     "metadata": {},
     "output_type": "execute_result"
    }
   ],
   "source": [
    "xtrain = pd.read_csv('警情记录-train.csv',encoding='gbk')\n",
    "xtrain.head()"
   ]
  },
  {
   "cell_type": "code",
   "execution_count": 97,
   "id": "f0b29a7b",
   "metadata": {},
   "outputs": [],
   "source": [
    "xtrain.columns = ['age','content','alert','label']"
   ]
  },
  {
   "cell_type": "code",
   "execution_count": 98,
   "id": "d13e74a5",
   "metadata": {},
   "outputs": [
    {
     "data": {
      "text/html": [
       "<div>\n",
       "<style scoped>\n",
       "    .dataframe tbody tr th:only-of-type {\n",
       "        vertical-align: middle;\n",
       "    }\n",
       "\n",
       "    .dataframe tbody tr th {\n",
       "        vertical-align: top;\n",
       "    }\n",
       "\n",
       "    .dataframe thead th {\n",
       "        text-align: right;\n",
       "    }\n",
       "</style>\n",
       "<table border=\"1\" class=\"dataframe\">\n",
       "  <thead>\n",
       "    <tr style=\"text-align: right;\">\n",
       "      <th></th>\n",
       "      <th>报警人性别</th>\n",
       "      <th>报警内容</th>\n",
       "      <th>出警情况（反馈内容）</th>\n",
       "      <th>最终反馈警情类别</th>\n",
       "    </tr>\n",
       "  </thead>\n",
       "  <tbody>\n",
       "    <tr>\n",
       "      <th>0</th>\n",
       "      <td>男</td>\n",
       "      <td>称有人喝醉酒躺在路边，120</td>\n",
       "      <td>民警**出警途中接报警人电话称酒醉人员已经回到湘湖逍遥庄园工地里面，无需民警过去救助。（报警...</td>\n",
       "      <td>求助</td>\n",
       "    </tr>\n",
       "    <tr>\n",
       "      <th>1</th>\n",
       "      <td>男</td>\n",
       "      <td>路人报警称路边有各女孩子一直在哭</td>\n",
       "      <td>民警***到达瓜沥镇航民文化中心，经调查，系一女孩（不愿登记身份信息）因琐事于2019年7月...</td>\n",
       "      <td>求助</td>\n",
       "    </tr>\n",
       "    <tr>\n",
       "      <th>2</th>\n",
       "      <td>男</td>\n",
       "      <td>捡到一张身份证\\n重复报警:报警时间:2019-07-31 23:34:41, 报警电话:1...</td>\n",
       "      <td>民警***带辅警** *** ***到达二桥村水浒饭店现场：系报警人(*** 男 1997*...</td>\n",
       "      <td>求助</td>\n",
       "    </tr>\n",
       "    <tr>\n",
       "      <th>3</th>\n",
       "      <td>男</td>\n",
       "      <td>称两台空调被偷</td>\n",
       "      <td>民警***到达瓜沥镇人民路1330号，经调查，系***（1974********,158**...</td>\n",
       "      <td>求助</td>\n",
       "    </tr>\n",
       "    <tr>\n",
       "      <th>4</th>\n",
       "      <td>男</td>\n",
       "      <td>称手机遗失，求助</td>\n",
       "      <td>民警任水灿电话联系报警人***（1971********）称其手机遗失，求助查看加油站监控，...</td>\n",
       "      <td>求助</td>\n",
       "    </tr>\n",
       "  </tbody>\n",
       "</table>\n",
       "</div>"
      ],
      "text/plain": [
       "  报警人性别                                               报警内容  \\\n",
       "0     男                                     称有人喝醉酒躺在路边，120   \n",
       "1     男                                   路人报警称路边有各女孩子一直在哭   \n",
       "2     男  捡到一张身份证\\n重复报警:报警时间:2019-07-31 23:34:41, 报警电话:1...   \n",
       "3     男                                            称两台空调被偷   \n",
       "4     男                                           称手机遗失，求助   \n",
       "\n",
       "                                          出警情况（反馈内容） 最终反馈警情类别  \n",
       "0  民警**出警途中接报警人电话称酒醉人员已经回到湘湖逍遥庄园工地里面，无需民警过去救助。（报警...       求助  \n",
       "1  民警***到达瓜沥镇航民文化中心，经调查，系一女孩（不愿登记身份信息）因琐事于2019年7月...       求助  \n",
       "2  民警***带辅警** *** ***到达二桥村水浒饭店现场：系报警人(*** 男 1997*...       求助  \n",
       "3  民警***到达瓜沥镇人民路1330号，经调查，系***（1974********,158**...       求助  \n",
       "4  民警任水灿电话联系报警人***（1971********）称其手机遗失，求助查看加油站监控，...       求助  "
      ]
     },
     "execution_count": 98,
     "metadata": {},
     "output_type": "execute_result"
    }
   ],
   "source": [
    "xtest = pd.read_csv('警情记录-test.csv',encoding='gbk')\n",
    "xtest.head()"
   ]
  },
  {
   "cell_type": "code",
   "execution_count": 99,
   "id": "86332bb9",
   "metadata": {},
   "outputs": [],
   "source": [
    "xtest.columns = ['age','content','alert','label']"
   ]
  },
  {
   "cell_type": "markdown",
   "id": "fc8442dd",
   "metadata": {},
   "source": [
    "# 标签编码"
   ]
  },
  {
   "cell_type": "code",
   "execution_count": 100,
   "id": "1056490b",
   "metadata": {},
   "outputs": [
    {
     "data": {
      "text/html": [
       "<div>\n",
       "<style scoped>\n",
       "    .dataframe tbody tr th:only-of-type {\n",
       "        vertical-align: middle;\n",
       "    }\n",
       "\n",
       "    .dataframe tbody tr th {\n",
       "        vertical-align: top;\n",
       "    }\n",
       "\n",
       "    .dataframe thead th {\n",
       "        text-align: right;\n",
       "    }\n",
       "</style>\n",
       "<table border=\"1\" class=\"dataframe\">\n",
       "  <thead>\n",
       "    <tr style=\"text-align: right;\">\n",
       "      <th></th>\n",
       "      <th>age</th>\n",
       "      <th>content</th>\n",
       "      <th>alert</th>\n",
       "      <th>label</th>\n",
       "    </tr>\n",
       "  </thead>\n",
       "  <tbody>\n",
       "    <tr>\n",
       "      <th>0</th>\n",
       "      <td>男</td>\n",
       "      <td>事故后期，赔偿纠纷</td>\n",
       "      <td>2019年7月27日9时41分许，民警***带领辅警冯诚军，***到达萧山区靖江路与广场路西...</td>\n",
       "      <td>1</td>\n",
       "    </tr>\n",
       "    <tr>\n",
       "      <th>1</th>\n",
       "      <td>男</td>\n",
       "      <td>称因感情问题，妹妹扬言要自杀  已通知120</td>\n",
       "      <td>民警***带领辅警**、***、**到达二桥村327号报警现场，经了解报警人***（男：19...</td>\n",
       "      <td>1</td>\n",
       "    </tr>\n",
       "    <tr>\n",
       "      <th>2</th>\n",
       "      <td>男</td>\n",
       "      <td>装修噪音扰民</td>\n",
       "      <td>民警来*到达湘湖家园78-3-601，据报警人（未透露身份信息）称有装修工噪音扰民，现场装修...</td>\n",
       "      <td>1</td>\n",
       "    </tr>\n",
       "    <tr>\n",
       "      <th>3</th>\n",
       "      <td>男</td>\n",
       "      <td>称中暑了  120\\n重复报警:报警时间:2019-07-27 09:29:40, 报警电话...</td>\n",
       "      <td>民警***到达瓜沥镇**娄观音庙后面，经调查，系报警人于2019年7月27日9时16分因中暑...</td>\n",
       "      <td>1</td>\n",
       "    </tr>\n",
       "    <tr>\n",
       "      <th>4</th>\n",
       "      <td>男</td>\n",
       "      <td>电梯里的广告牌被人损坏</td>\n",
       "      <td>2019年7月27日8时58分许，民警***带领辅警冯诚军，***到达萧山区靖江街道靖东村村...</td>\n",
       "      <td>1</td>\n",
       "    </tr>\n",
       "  </tbody>\n",
       "</table>\n",
       "</div>"
      ],
      "text/plain": [
       "  age                                            content  \\\n",
       "0   男                                          事故后期，赔偿纠纷   \n",
       "1   男                             称因感情问题，妹妹扬言要自杀  已通知120   \n",
       "2   男                                             装修噪音扰民   \n",
       "3   男  称中暑了  120\\n重复报警:报警时间:2019-07-27 09:29:40, 报警电话...   \n",
       "4   男                                        电梯里的广告牌被人损坏   \n",
       "\n",
       "                                               alert  label  \n",
       "0  2019年7月27日9时41分许，民警***带领辅警冯诚军，***到达萧山区靖江路与广场路西...      1  \n",
       "1  民警***带领辅警**、***、**到达二桥村327号报警现场，经了解报警人***（男：19...      1  \n",
       "2  民警来*到达湘湖家园78-3-601，据报警人（未透露身份信息）称有装修工噪音扰民，现场装修...      1  \n",
       "3  民警***到达瓜沥镇**娄观音庙后面，经调查，系报警人于2019年7月27日9时16分因中暑...      1  \n",
       "4  2019年7月27日8时58分许，民警***带领辅警冯诚军，***到达萧山区靖江街道靖东村村...      1  "
      ]
     },
     "execution_count": 100,
     "metadata": {},
     "output_type": "execute_result"
    }
   ],
   "source": [
    "moods = { '纠纷':0, '求助':1, '治安案件':2, '其它报警':3,'刑事案件':4,'举报':5} \n",
    "xtrain['label'] = xtrain['label'].replace(moods)\n",
    "xtest['label'] = xtest['label'].replace(moods)  \n",
    "xtrain.head()"
   ]
  },
  {
   "cell_type": "markdown",
   "id": "c459f530",
   "metadata": {},
   "source": [
    "# 统计个数"
   ]
  },
  {
   "cell_type": "code",
   "execution_count": 101,
   "id": "eda6654f",
   "metadata": {},
   "outputs": [
    {
     "data": {
      "text/plain": [
       "0    2841\n",
       "1    1220\n",
       "2    1123\n",
       "3    1043\n",
       "4     427\n",
       "5     174\n",
       "Name: label, dtype: int64"
      ]
     },
     "execution_count": 101,
     "metadata": {},
     "output_type": "execute_result"
    }
   ],
   "source": [
    "xtrain['label'].value_counts()"
   ]
  },
  {
   "cell_type": "code",
   "execution_count": 102,
   "id": "955457bc",
   "metadata": {},
   "outputs": [
    {
     "name": "stdout",
     "output_type": "stream",
     "text": [
      "评论数目（总体）：6828\n",
      "评论数目（纠纷）：2841\n",
      "评论数目（求助）：1220\n",
      "评论数目（治安案件）：1123\n",
      "评论数目（其它报警）：1043\n",
      "评论数目（刑事案件）：427\n",
      "评论数目（举报）：174\n"
     ]
    }
   ],
   "source": [
    "moods = {0: '纠纷', 1: '求助',2: '治安案件',3: '其它报警',4: '刑事案件',5: '举报'} \n",
    "\n",
    "print('评论数目（总体）：%d' % xtrain.shape[0])\n",
    "\n",
    "for label, mood in moods.items(): \n",
    "    print('评论数目（{}）：{}'.format(mood,  xtrain[xtrain.label==label].shape[0]))"
   ]
  },
  {
   "cell_type": "code",
   "execution_count": 103,
   "id": "625428b6",
   "metadata": {},
   "outputs": [],
   "source": [
    "xtrain['reviews'] = xtrain['age'].astype(str) + xtrain['content'].astype(str) + xtrain['alert'].astype(str)\n",
    "xtest['reviews'] = xtest['age'].astype(str) + xtest['content'].astype(str) + xtest['alert'].astype(str)\n",
    "xtrain = xtrain[['label','reviews']]\n",
    "xtest = xtest[['label','reviews']]"
   ]
  },
  {
   "cell_type": "code",
   "execution_count": 104,
   "id": "36307d20",
   "metadata": {},
   "outputs": [
    {
     "data": {
      "text/html": [
       "<div>\n",
       "<style scoped>\n",
       "    .dataframe tbody tr th:only-of-type {\n",
       "        vertical-align: middle;\n",
       "    }\n",
       "\n",
       "    .dataframe tbody tr th {\n",
       "        vertical-align: top;\n",
       "    }\n",
       "\n",
       "    .dataframe thead th {\n",
       "        text-align: right;\n",
       "    }\n",
       "</style>\n",
       "<table border=\"1\" class=\"dataframe\">\n",
       "  <thead>\n",
       "    <tr style=\"text-align: right;\">\n",
       "      <th></th>\n",
       "      <th>label</th>\n",
       "      <th>reviews</th>\n",
       "    </tr>\n",
       "  </thead>\n",
       "  <tbody>\n",
       "    <tr>\n",
       "      <th>0</th>\n",
       "      <td>1</td>\n",
       "      <td>男事故后期，赔偿纠纷2019年7月27日9时41分许，民警***带领辅警冯诚军，***到达萧...</td>\n",
       "    </tr>\n",
       "    <tr>\n",
       "      <th>1</th>\n",
       "      <td>1</td>\n",
       "      <td>男称因感情问题，妹妹扬言要自杀  已通知120民警***带领辅警**、***、**到达二桥村...</td>\n",
       "    </tr>\n",
       "    <tr>\n",
       "      <th>2</th>\n",
       "      <td>1</td>\n",
       "      <td>男装修噪音扰民民警来*到达湘湖家园78-3-601，据报警人（未透露身份信息）称有装修工噪音...</td>\n",
       "    </tr>\n",
       "    <tr>\n",
       "      <th>3</th>\n",
       "      <td>1</td>\n",
       "      <td>男称中暑了  120\\n重复报警:报警时间:2019-07-27 09:29:40, 报警电...</td>\n",
       "    </tr>\n",
       "    <tr>\n",
       "      <th>4</th>\n",
       "      <td>1</td>\n",
       "      <td>男电梯里的广告牌被人损坏2019年7月27日8时58分许，民警***带领辅警冯诚军，***到...</td>\n",
       "    </tr>\n",
       "    <tr>\n",
       "      <th>...</th>\n",
       "      <td>...</td>\n",
       "      <td>...</td>\n",
       "    </tr>\n",
       "    <tr>\n",
       "      <th>6823</th>\n",
       "      <td>4</td>\n",
       "      <td>男电缆线被偷进化派出所民警到达现场，系***（男，1971********）报警称：2019...</td>\n",
       "    </tr>\n",
       "    <tr>\n",
       "      <th>6824</th>\n",
       "      <td>4</td>\n",
       "      <td>男报警人称办信用卡被骗几百元，明天会自行到所报案民警谢少科电话联系报警人，报警人***（男，...</td>\n",
       "    </tr>\n",
       "    <tr>\n",
       "      <th>6825</th>\n",
       "      <td>4</td>\n",
       "      <td>女昨天放吧台上包里的1万元不见了2019年7月1日10时37分接***（女,, 年龄:49,...</td>\n",
       "    </tr>\n",
       "    <tr>\n",
       "      <th>6826</th>\n",
       "      <td>4</td>\n",
       "      <td>男工地材料被偷 2019年7月1日早上报警人苗淼1982********称，2019年6月3...</td>\n",
       "    </tr>\n",
       "    <tr>\n",
       "      <th>6827</th>\n",
       "      <td>4</td>\n",
       "      <td>男网上被骗7万左右2019年7月1日9时25分接**（男,, 年龄:34, 身份证号:198...</td>\n",
       "    </tr>\n",
       "  </tbody>\n",
       "</table>\n",
       "<p>6828 rows × 2 columns</p>\n",
       "</div>"
      ],
      "text/plain": [
       "      label                                            reviews\n",
       "0         1  男事故后期，赔偿纠纷2019年7月27日9时41分许，民警***带领辅警冯诚军，***到达萧...\n",
       "1         1  男称因感情问题，妹妹扬言要自杀  已通知120民警***带领辅警**、***、**到达二桥村...\n",
       "2         1  男装修噪音扰民民警来*到达湘湖家园78-3-601，据报警人（未透露身份信息）称有装修工噪音...\n",
       "3         1  男称中暑了  120\\n重复报警:报警时间:2019-07-27 09:29:40, 报警电...\n",
       "4         1  男电梯里的广告牌被人损坏2019年7月27日8时58分许，民警***带领辅警冯诚军，***到...\n",
       "...     ...                                                ...\n",
       "6823      4  男电缆线被偷进化派出所民警到达现场，系***（男，1971********）报警称：2019...\n",
       "6824      4  男报警人称办信用卡被骗几百元，明天会自行到所报案民警谢少科电话联系报警人，报警人***（男，...\n",
       "6825      4  女昨天放吧台上包里的1万元不见了2019年7月1日10时37分接***（女,, 年龄:49,...\n",
       "6826      4  男工地材料被偷 2019年7月1日早上报警人苗淼1982********称，2019年6月3...\n",
       "6827      4  男网上被骗7万左右2019年7月1日9时25分接**（男,, 年龄:34, 身份证号:198...\n",
       "\n",
       "[6828 rows x 2 columns]"
      ]
     },
     "execution_count": 104,
     "metadata": {},
     "output_type": "execute_result"
    }
   ],
   "source": [
    "xtrain"
   ]
  },
  {
   "cell_type": "code",
   "execution_count": 106,
   "id": "1dc51031",
   "metadata": {},
   "outputs": [
    {
     "data": {
      "text/html": [
       "<div>\n",
       "<style scoped>\n",
       "    .dataframe tbody tr th:only-of-type {\n",
       "        vertical-align: middle;\n",
       "    }\n",
       "\n",
       "    .dataframe tbody tr th {\n",
       "        vertical-align: top;\n",
       "    }\n",
       "\n",
       "    .dataframe thead th {\n",
       "        text-align: right;\n",
       "    }\n",
       "</style>\n",
       "<table border=\"1\" class=\"dataframe\">\n",
       "  <thead>\n",
       "    <tr style=\"text-align: right;\">\n",
       "      <th></th>\n",
       "      <th>label</th>\n",
       "      <th>reviews</th>\n",
       "    </tr>\n",
       "  </thead>\n",
       "  <tbody>\n",
       "    <tr>\n",
       "      <th>0</th>\n",
       "      <td>1</td>\n",
       "      <td>男称有人喝醉酒躺在路边，120民警**出警途中接报警人电话称酒醉人员已经回到湘湖逍遥庄园工地...</td>\n",
       "    </tr>\n",
       "    <tr>\n",
       "      <th>1</th>\n",
       "      <td>1</td>\n",
       "      <td>男路人报警称路边有各女孩子一直在哭民警***到达瓜沥镇航民文化中心，经调查，系一女孩（不愿登...</td>\n",
       "    </tr>\n",
       "    <tr>\n",
       "      <th>2</th>\n",
       "      <td>1</td>\n",
       "      <td>男捡到一张身份证\\n重复报警:报警时间:2019-07-31 23:34:41, 报警电话:...</td>\n",
       "    </tr>\n",
       "    <tr>\n",
       "      <th>3</th>\n",
       "      <td>1</td>\n",
       "      <td>男称两台空调被偷民警***到达瓜沥镇人民路1330号，经调查，系***（1974******...</td>\n",
       "    </tr>\n",
       "    <tr>\n",
       "      <th>4</th>\n",
       "      <td>1</td>\n",
       "      <td>男称手机遗失，求助民警任水灿电话联系报警人***（1971********）称其手机遗失，求...</td>\n",
       "    </tr>\n",
       "    <tr>\n",
       "      <th>...</th>\n",
       "      <td>...</td>\n",
       "      <td>...</td>\n",
       "    </tr>\n",
       "    <tr>\n",
       "      <th>1361</th>\n",
       "      <td>4</td>\n",
       "      <td>男报警人称家里进贼了，现在不方便过去，请先电话联系。2019年7月28日2时12分许，民警*...</td>\n",
       "    </tr>\n",
       "    <tr>\n",
       "      <th>1362</th>\n",
       "      <td>4</td>\n",
       "      <td>男称有个人喝多了睡在马路边上民警**到达城厢崇化路上，经了解，系路人***（男  1999*...</td>\n",
       "    </tr>\n",
       "    <tr>\n",
       "      <th>1363</th>\n",
       "      <td>4</td>\n",
       "      <td>男淘宝上钱被骗报警人***1996********自行来所反映，在其淘宝上帮人代买东西，对方...</td>\n",
       "    </tr>\n",
       "    <tr>\n",
       "      <th>1364</th>\n",
       "      <td>4</td>\n",
       "      <td>男称放家里的钱包被偷，546029民警***到达霞江村菜场旁边，经了解和现场查看，报警人**...</td>\n",
       "    </tr>\n",
       "    <tr>\n",
       "      <th>1365</th>\n",
       "      <td>4</td>\n",
       "      <td>女报警人称被骗24000元2019年07月27日21时03分接***（女，23岁，身份证：1...</td>\n",
       "    </tr>\n",
       "  </tbody>\n",
       "</table>\n",
       "<p>1366 rows × 2 columns</p>\n",
       "</div>"
      ],
      "text/plain": [
       "      label                                            reviews\n",
       "0         1  男称有人喝醉酒躺在路边，120民警**出警途中接报警人电话称酒醉人员已经回到湘湖逍遥庄园工地...\n",
       "1         1  男路人报警称路边有各女孩子一直在哭民警***到达瓜沥镇航民文化中心，经调查，系一女孩（不愿登...\n",
       "2         1  男捡到一张身份证\\n重复报警:报警时间:2019-07-31 23:34:41, 报警电话:...\n",
       "3         1  男称两台空调被偷民警***到达瓜沥镇人民路1330号，经调查，系***（1974******...\n",
       "4         1  男称手机遗失，求助民警任水灿电话联系报警人***（1971********）称其手机遗失，求...\n",
       "...     ...                                                ...\n",
       "1361      4  男报警人称家里进贼了，现在不方便过去，请先电话联系。2019年7月28日2时12分许，民警*...\n",
       "1362      4  男称有个人喝多了睡在马路边上民警**到达城厢崇化路上，经了解，系路人***（男  1999*...\n",
       "1363      4  男淘宝上钱被骗报警人***1996********自行来所反映，在其淘宝上帮人代买东西，对方...\n",
       "1364      4  男称放家里的钱包被偷，546029民警***到达霞江村菜场旁边，经了解和现场查看，报警人**...\n",
       "1365      4  女报警人称被骗24000元2019年07月27日21时03分接***（女，23岁，身份证：1...\n",
       "\n",
       "[1366 rows x 2 columns]"
      ]
     },
     "execution_count": 106,
     "metadata": {},
     "output_type": "execute_result"
    }
   ],
   "source": [
    "xtest"
   ]
  },
  {
   "cell_type": "code",
   "execution_count": 107,
   "id": "b1d81aea",
   "metadata": {},
   "outputs": [],
   "source": [
    "# xtest.to_excel('测试集预处理数据.xlsx',index=0)"
   ]
  },
  {
   "cell_type": "code",
   "execution_count": 108,
   "id": "1e22b82f",
   "metadata": {},
   "outputs": [],
   "source": [
    "# 数据过滤\n",
    "def regex_filter(s_line):\n",
    "    # 剔除英文、数字，以及空格\n",
    "    special_regex = re.compile(r\"[a-zA-Z0-9\\s]+\")\n",
    "    # 剔除英文标点符号和特殊符号\n",
    "    en_regex = re.compile(r\"[.…{|}#$%&\\'()*+,!-_./:~^;<=>?@★●，。]+\")\n",
    "    # 剔除中文标点符号\n",
    "    zn_regex = re.compile(r\"[《》！、，“”；：（）【】]+\")\n",
    "\n",
    "    s_line = special_regex.sub(r\"\", s_line)\n",
    "    s_line = en_regex.sub(r\"\", s_line)\n",
    "    s_line = zn_regex.sub(r\"\", s_line)\n",
    "    return s_line"
   ]
  },
  {
   "cell_type": "code",
   "execution_count": 109,
   "id": "74b24ee4",
   "metadata": {},
   "outputs": [],
   "source": [
    "# 加载停用词\n",
    "def stopwords_list(file_path):\n",
    "    stopwords = [line.strip() for line in open(file_path, 'r', encoding='utf-8').readlines()]\n",
    "    return stopwords"
   ]
  },
  {
   "cell_type": "code",
   "execution_count": 110,
   "id": "abb79cd1",
   "metadata": {},
   "outputs": [],
   "source": [
    "import collections\n",
    "word_freqs = collections.Counter()\n",
    "stopword = stopwords_list(\"stopwords.txt\")\n",
    "max_len = 0"
   ]
  },
  {
   "cell_type": "code",
   "execution_count": 111,
   "id": "bcc93bcf",
   "metadata": {},
   "outputs": [
    {
     "name": "stdout",
     "output_type": "stream",
     "text": [
      "241\n",
      "nb_words  20742\n"
     ]
    }
   ],
   "source": [
    "# 分词去停用词\n",
    "for sentence in xtrain[\"reviews\"].tolist():\n",
    "    sentence = regex_filter(str(sentence))\n",
    "    words = jieba.cut(sentence)\n",
    "    x = 0\n",
    "    for word in words:\n",
    "        if word not in stopword:\n",
    "            word_freqs[word] += 1\n",
    "            x += 1\n",
    "    max_len = max(max_len, x)\n",
    "print(max_len)\n",
    "print('nb_words ', len(word_freqs))"
   ]
  },
  {
   "cell_type": "code",
   "execution_count": 112,
   "id": "db46a56f",
   "metadata": {},
   "outputs": [],
   "source": [
    "MAX_FEATURES = 12000 # 最大词频数\n",
    "vocab_size = min(MAX_FEATURES, len(word_freqs)) + 2\n",
    "# 构建词频字典\n",
    "word2index = {x[0]: i+2 for i, x in enumerate(word_freqs.most_common(MAX_FEATURES))}\n",
    "word2index[\"PAD\"] = 0\n",
    "word2index[\"UNK\"] = 1\n",
    "# 将词频字典写入文件中保存\n",
    "with open('word_dict.pickle', 'wb') as handle:\n",
    "    pickle.dump(word2index, handle, protocol=pickle.HIGHEST_PROTOCOL)"
   ]
  },
  {
   "cell_type": "code",
   "execution_count": 113,
   "id": "606dd40a",
   "metadata": {},
   "outputs": [],
   "source": [
    "# 加载分词字典\n",
    "with open('word_dict.pickle', 'rb') as handle:\n",
    "    word2index = pickle.load(handle)"
   ]
  },
  {
   "cell_type": "code",
   "execution_count": 114,
   "id": "fa4e323f",
   "metadata": {},
   "outputs": [],
   "source": [
    "### 准备数据\n",
    "MAX_FEATURES = 12002 # 最大词频数\n",
    "MAX_SENTENCE_LENGTH = 160 # 句子最大长度\n",
    "num_recs = xtrain.shape[0]  # 样本数\n",
    "\n",
    "# 初始化句子数组和label数组\n",
    "X = np.empty(num_recs,dtype=list)\n",
    "y = np.zeros(num_recs)\n",
    "i=0"
   ]
  },
  {
   "cell_type": "code",
   "execution_count": 115,
   "id": "f483fbe4",
   "metadata": {},
   "outputs": [
    {
     "name": "stdout",
     "output_type": "stream",
     "text": [
      "(6828, 160)\n",
      "(6828, 6)\n"
     ]
    }
   ],
   "source": [
    "# 训练集每个样本在词频字典中的向量矩阵\n",
    "for label, sentence in zip(xtrain[\"label\"].tolist(), xtrain[\"reviews\"].tolist()):\n",
    "    words = jieba.cut(sentence)\n",
    "    seqs = []\n",
    "    for word in words:\n",
    "        # 在词频中\n",
    "        if word in word2index:\n",
    "            seqs.append(word2index[word])\n",
    "        else:\n",
    "            seqs.append(word2index[\"UNK\"])\n",
    "    X[i] = seqs\n",
    "    y[i] = int(label)\n",
    "    i += 1\n",
    "\n",
    "\n",
    "X1 = sequence.pad_sequences(X, maxlen=MAX_SENTENCE_LENGTH)\n",
    "\n",
    "y1 = pd.get_dummies(y).values\n",
    "print(X1.shape)\n",
    "print(y1.shape)"
   ]
  },
  {
   "cell_type": "code",
   "execution_count": 116,
   "id": "16782e3f",
   "metadata": {},
   "outputs": [],
   "source": [
    "from tensorflow.keras import layers"
   ]
  },
  {
   "cell_type": "code",
   "execution_count": 126,
   "id": "ddac0bae",
   "metadata": {},
   "outputs": [],
   "source": [
    "embeddings_dim = 256\n",
    "filters = 64\n",
    "kernel_size = 5\n",
    "batch_size = 64\n",
    "maxlen = 160\n",
    "# 搭建卷积神经网络层\n",
    "model = Sequential()\n",
    "model.add(layers.Embedding(input_dim=vocab_size, output_dim=embeddings_dim, input_length=maxlen))\n",
    "model.add(layers.Conv1D(filters=filters,kernel_size=kernel_size,activation='relu'))\n",
    "model.add(layers.GlobalMaxPool1D())\n",
    "model.add(layers.Dropout(0.3))\n",
    "# 上面 GlobalMaxPool1D 后，维度少了一维，下面自定义layers再扩展一维\n",
    "model.add(layers.Lambda(lambda x : tf.keras.backend.expand_dims(x, axis=-1)))\n",
    "model.add(layers.Conv1D(filters=filters,kernel_size=kernel_size,activation='relu'))\n",
    "model.add(layers.GlobalMaxPool1D())\n",
    "model.add(layers.Dropout(0.3))\n",
    "model.add(layers.Dense(10, activation='relu'))\n",
    "model.add(layers.Dense(6, activation='softmax')) #  多分类 softmax"
   ]
  },
  {
   "cell_type": "code",
   "execution_count": 127,
   "id": "baf88833",
   "metadata": {},
   "outputs": [
    {
     "name": "stdout",
     "output_type": "stream",
     "text": [
      "Model: \"sequential_2\"\n",
      "_________________________________________________________________\n",
      "Layer (type)                 Output Shape              Param #   \n",
      "=================================================================\n",
      "embedding_2 (Embedding)      (None, 160, 256)          3072512   \n",
      "_________________________________________________________________\n",
      "conv1d_4 (Conv1D)            (None, 156, 64)           81984     \n",
      "_________________________________________________________________\n",
      "global_max_pooling1d_4 (Glob (None, 64)                0         \n",
      "_________________________________________________________________\n",
      "dropout_4 (Dropout)          (None, 64)                0         \n",
      "_________________________________________________________________\n",
      "lambda_2 (Lambda)            (None, 64, 1)             0         \n",
      "_________________________________________________________________\n",
      "conv1d_5 (Conv1D)            (None, 60, 64)            384       \n",
      "_________________________________________________________________\n",
      "global_max_pooling1d_5 (Glob (None, 64)                0         \n",
      "_________________________________________________________________\n",
      "dropout_5 (Dropout)          (None, 64)                0         \n",
      "_________________________________________________________________\n",
      "dense_4 (Dense)              (None, 10)                650       \n",
      "_________________________________________________________________\n",
      "dense_5 (Dense)              (None, 6)                 66        \n",
      "=================================================================\n",
      "Total params: 3,155,596\n",
      "Trainable params: 3,155,596\n",
      "Non-trainable params: 0\n",
      "_________________________________________________________________\n"
     ]
    }
   ],
   "source": [
    "# 编译模型\n",
    "model.compile(optimizer='adam', loss='binary_crossentropy',metrics=['accuracy'])\n",
    "model.summary()"
   ]
  },
  {
   "cell_type": "code",
   "execution_count": 128,
   "id": "0c0e3dc3",
   "metadata": {},
   "outputs": [],
   "source": [
    "# 数据划分-训练和验证\n",
    "Xtrain, Xval, ytrain, yval = train_test_split(X1, y1, test_size=0.2, random_state=42,shuffle=True)"
   ]
  },
  {
   "cell_type": "code",
   "execution_count": 129,
   "id": "65e1708f",
   "metadata": {},
   "outputs": [
    {
     "name": "stdout",
     "output_type": "stream",
     "text": [
      "Train on 5462 samples, validate on 1366 samples\n",
      "Epoch 1/10\n",
      "5462/5462 [==============================] - 24s 4ms/sample - loss: 0.3483 - accuracy: 0.8650 - val_loss: 0.3256 - val_accuracy: 0.8792\n",
      "Epoch 2/10\n",
      "5462/5462 [==============================] - 20s 4ms/sample - loss: 0.2979 - accuracy: 0.8826 - val_loss: 0.2931 - val_accuracy: 0.8827\n",
      "Epoch 3/10\n",
      "5462/5462 [==============================] - 20s 4ms/sample - loss: 0.2645 - accuracy: 0.8940 - val_loss: 0.2629 - val_accuracy: 0.8959\n",
      "Epoch 4/10\n",
      "5462/5462 [==============================] - 20s 4ms/sample - loss: 0.2356 - accuracy: 0.9021 - val_loss: 0.2769 - val_accuracy: 0.8954\n",
      "Epoch 5/10\n",
      "5462/5462 [==============================] - 20s 4ms/sample - loss: 0.2121 - accuracy: 0.9100 - val_loss: 0.2837 - val_accuracy: 0.8904\n",
      "Epoch 6/10\n",
      "5462/5462 [==============================] - 20s 4ms/sample - loss: 0.1960 - accuracy: 0.9164 - val_loss: 0.2587 - val_accuracy: 0.8979\n",
      "Epoch 7/10\n",
      "5462/5462 [==============================] - 20s 4ms/sample - loss: 0.1806 - accuracy: 0.9246 - val_loss: 0.2805 - val_accuracy: 0.8857\n",
      "Epoch 8/10\n",
      "5462/5462 [==============================] - 20s 4ms/sample - loss: 0.1717 - accuracy: 0.9286 - val_loss: 0.2828 - val_accuracy: 0.8803\n",
      "Epoch 9/10\n",
      "5462/5462 [==============================] - 20s 4ms/sample - loss: 0.1583 - accuracy: 0.9351 - val_loss: 0.3169 - val_accuracy: 0.8527\n",
      "Epoch 10/10\n",
      "5462/5462 [==============================] - 20s 4ms/sample - loss: 0.1502 - accuracy: 0.9401 - val_loss: 0.2639 - val_accuracy: 0.8902\n"
     ]
    }
   ],
   "source": [
    "## 训练模型\n",
    "history = model.fit(Xtrain, ytrain, batch_size=8, epochs=10,validation_data=(Xval, yval))"
   ]
  },
  {
   "cell_type": "code",
   "execution_count": 130,
   "id": "fba7c959",
   "metadata": {},
   "outputs": [
    {
     "data": {
      "image/png": "[encoded data removed]",
      "text/plain": [
       "<Figure size 576x360 with 1 Axes>"
      ]
     },
     "metadata": {},
     "output_type": "display_data"
    }
   ],
   "source": [
    "# 绘制训练曲线\n",
    "from matplotlib import pyplot as plt\n",
    "pd.DataFrame(history.history).plot(figsize=(8, 5))\n",
    "plt.grid(True)\n",
    "plt.gca().set_ylim(0, 1) # set the vertical range to [0-1]\n",
    "plt.show()"
   ]
  },
  {
   "cell_type": "code",
   "execution_count": 131,
   "id": "d7a10c1c",
   "metadata": {},
   "outputs": [],
   "source": [
    "# 测试集评估模型\n",
    "import collections\n",
    "word_freqs = collections.Counter()\n",
    "stopword = stopwords_list(\"stopwords.txt\")\n",
    "max_len = 0"
   ]
  },
  {
   "cell_type": "code",
   "execution_count": 132,
   "id": "6df558ad",
   "metadata": {},
   "outputs": [
    {
     "name": "stdout",
     "output_type": "stream",
     "text": [
      "183\n",
      "nb_words  8123\n"
     ]
    }
   ],
   "source": [
    "# 分词去停用词\n",
    "for sentence in xtest[\"reviews\"].tolist():\n",
    "    sentence = regex_filter(str(sentence))\n",
    "    words = jieba.cut(sentence)\n",
    "    x = 0\n",
    "    for word in words:\n",
    "        if word not in stopword:\n",
    "            word_freqs[word] += 1\n",
    "            x += 1\n",
    "    max_len = max(max_len, x)\n",
    "print(max_len)\n",
    "print('nb_words ', len(word_freqs))"
   ]
  },
  {
   "cell_type": "code",
   "execution_count": 133,
   "id": "83bf7970",
   "metadata": {},
   "outputs": [],
   "source": [
    "MAX_FEATURES = 12000 # 最大词频数\n",
    "vocab_size = min(MAX_FEATURES, len(word_freqs)) + 2\n",
    "# 构建词频字典\n",
    "word2index = {x[0]: i+2 for i, x in enumerate(word_freqs.most_common(MAX_FEATURES))}\n",
    "word2index[\"PAD\"] = 0\n",
    "word2index[\"UNK\"] = 1\n",
    "# 将词频字典写入文件中保存\n",
    "with open('word_dict.pickle', 'wb') as handle:\n",
    "    pickle.dump(word2index, handle, protocol=pickle.HIGHEST_PROTOCOL)"
   ]
  },
  {
   "cell_type": "code",
   "execution_count": 134,
   "id": "82471640",
   "metadata": {},
   "outputs": [],
   "source": [
    "# 加载分词字典\n",
    "with open('word_dict.pickle', 'rb') as handle:\n",
    "    word2index = pickle.load(handle)"
   ]
  },
  {
   "cell_type": "code",
   "execution_count": 135,
   "id": "db6e210a",
   "metadata": {},
   "outputs": [],
   "source": [
    "### 准备数据\n",
    "MAX_FEATURES = 12002 # 最大词频数\n",
    "MAX_SENTENCE_LENGTH = 160 # 句子最大长度\n",
    "num_recs = xtest.shape[0]  # 样本数\n",
    "\n",
    "# 初始化句子数组和label数组\n",
    "X = np.empty(num_recs,dtype=list)\n",
    "y = np.zeros(num_recs)\n",
    "i=0"
   ]
  },
  {
   "cell_type": "code",
   "execution_count": 136,
   "id": "55b2cc9b",
   "metadata": {},
   "outputs": [
    {
     "name": "stdout",
     "output_type": "stream",
     "text": [
      "(1366, 160)\n",
      "(1366, 160)\n"
     ]
    }
   ],
   "source": [
    "# 训练集每个样本在词频字典中的向量矩阵\n",
    "for label, sentence in zip(xtest[\"label\"].tolist(), xtest[\"reviews\"].tolist()):\n",
    "    words = jieba.cut(sentence)\n",
    "    seqs = []\n",
    "    for word in words:\n",
    "        # 在词频中\n",
    "        if word in word2index:\n",
    "            seqs.append(word2index[word])\n",
    "        else:\n",
    "            seqs.append(word2index[\"UNK\"])\n",
    "    X[i] = seqs\n",
    "    y[i] = int(label)\n",
    "    i += 1\n",
    "\n",
    "\n",
    "Xtest = sequence.pad_sequences(X, maxlen=MAX_SENTENCE_LENGTH)\n",
    "\n",
    "ytest = pd.get_dummies(y).values\n",
    "print(Xtest.shape)\n",
    "print(Xtest.shape)"
   ]
  },
  {
   "cell_type": "code",
   "execution_count": 138,
   "id": "4eaaeff2",
   "metadata": {},
   "outputs": [
    {
     "name": "stdout",
     "output_type": "stream",
     "text": [
      "accuracy 0.6456808199121523\n",
      "              precision    recall  f1-score   support\n",
      "\n",
      "          纠纷       0.89      0.75      0.81       548\n",
      "          求助       0.74      0.76      0.75       260\n",
      "        治安案件       0.54      0.51      0.53       223\n",
      "        其它报警       0.34      0.43      0.38       211\n",
      "        刑事案件       0.44      0.79      0.56        89\n",
      "          举报       0.00      0.00      0.00        35\n",
      "\n",
      "    accuracy                           0.65      1366\n",
      "   macro avg       0.49      0.54      0.50      1366\n",
      "weighted avg       0.67      0.65      0.65      1366\n",
      "\n"
     ]
    }
   ],
   "source": [
    "## 验证集评估模型\n",
    "y_pred = model.predict(Xval)\n",
    "y_pred = y_pred.argmax(axis=1)\n",
    "yval = yval.argmax(axis=1)\n",
    "\n",
    "print('accuracy %s' % accuracy_score(y_pred, yval))\n",
    "target_names = ['纠纷', '求助', '治安案件', '其它报警', '刑事案件','举报']\n",
    "print(classification_report(yval, y_pred, target_names=target_names))"
   ]
  },
  {
   "cell_type": "code",
   "execution_count": 137,
   "id": "2b60ea73",
   "metadata": {},
   "outputs": [
    {
     "name": "stdout",
     "output_type": "stream",
     "text": [
      "accuracy 0.15739385065885797\n",
      "              precision    recall  f1-score   support\n",
      "\n",
      "          纠纷       0.36      0.07      0.12       568\n",
      "          求助       0.13      0.18      0.15       244\n",
      "        治安案件       0.13      0.10      0.11       225\n",
      "        其它报警       0.15      0.50      0.23       209\n",
      "        刑事案件       0.05      0.02      0.03        85\n",
      "          举报       0.00      0.00      0.00        35\n",
      "\n",
      "    accuracy                           0.16      1366\n",
      "   macro avg       0.14      0.15      0.11      1366\n",
      "weighted avg       0.22      0.16      0.13      1366\n",
      "\n"
     ]
    }
   ],
   "source": [
    "## 测试集评估模型\n",
    "y_pred = model.predict(Xtest)\n",
    "y_pred = y_pred.argmax(axis=1)\n",
    "ytest = ytest.argmax(axis=1)\n",
    "\n",
    "print('accuracy %s' % accuracy_score(y_pred, ytest))\n",
    "target_names = ['纠纷', '求助', '治安案件', '其它报警', '刑事案件','举报']\n",
    "print(classification_report(ytest, y_pred, target_names=target_names))"
   ]
  },
  {
   "cell_type": "code",
   "execution_count": null,
   "id": "28687dbd",
   "metadata": {},
   "outputs": [],
   "source": []
  }
 ],
 "metadata": {
  "kernelspec": {
   "display_name": "Python 3 (ipykernel)",
   "language": "python",
   "name": "python3"
  },
  "language_info": {
   "codemirror_mode": {
    "name": "ipython",
    "version": 3
   },
   "file_extension": ".py",
   "mimetype": "text/x-python",
   "name": "python",
   "nbconvert_exporter": "python",
   "pygments_lexer": "ipython3",
   "version": "3.7.11"
  }
 },
 "nbformat": 4,
 "nbformat_minor": 5
}
